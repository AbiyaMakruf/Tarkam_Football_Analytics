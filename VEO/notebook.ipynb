{
 "cells": [
  {
   "cell_type": "code",
   "execution_count": null,
   "id": "9829d561",
   "metadata": {},
   "outputs": [],
   "source": [
    "from roboflow import Roboflow\n",
    "rf = Roboflow(api_key=\"nMDpz8USKh6C3rYLlEVe\")\n",
    "project = rf.workspace(\"rahmatsyarifazhari\").project(\"tarkam-football-analytics-8fzhs\")\n",
    "version = project.version(1)\n",
    "dataset = version.download(\"yolov11\")"
   ]
  },
  {
   "cell_type": "code",
   "execution_count": null,
   "id": "c515c101",
   "metadata": {},
   "outputs": [],
   "source": [
    "from ultralytics import YOLO\n",
    "model = YOLO(\"yolo11n.pt\")\n",
    "results = model.train(data=\"Tarkam-Football-Analytics-1/data.yaml\", epochs=10, imgsz=640, batch=16, project=\"results\", name=\"nano\", verbose=False)"
   ]
  },
  {
   "cell_type": "code",
   "execution_count": null,
   "id": "3b49559a",
   "metadata": {},
   "outputs": [],
   "source": [
    "results = model.val(data=\"Tarkam-Football-Analytics-1/data.yaml\", imgsz=640, batch=16)"
   ]
  }
 ],
 "metadata": {
  "kernelspec": {
   "display_name": "tarkam_env",
   "language": "python",
   "name": "python3"
  },
  "language_info": {
   "codemirror_mode": {
    "name": "ipython",
    "version": 3
   },
   "file_extension": ".py",
   "mimetype": "text/x-python",
   "name": "python",
   "nbconvert_exporter": "python",
   "pygments_lexer": "ipython3",
   "version": "3.10.18"
  }
 },
 "nbformat": 4,
 "nbformat_minor": 5
}
